{
 "cells": [
  {
   "cell_type": "markdown",
   "metadata": {},
   "source": [
    "# CMSE 202: Semester Group Project"
   ]
  },
  {
   "cell_type": "markdown",
   "metadata": {},
   "source": [
    "<img src=\"https://as2.ftcdn.net/jpg/01/24/40/79/500_F_124407905_i8wEGGzf7YVSMkl3aNt0QPnUPe62T0j1.jpg\" width=400px>"
   ]
  },
  {
   "cell_type": "markdown",
   "metadata": {},
   "source": [
    "**Section:** 003"
   ]
  },
  {
   "cell_type": "markdown",
   "metadata": {},
   "source": [
    "**Group Members and their assigned sections:** \n",
    "* Himali Bhandar:Model \n",
    "* Amanda Bowerman: Model\n",
    "* Riley Latham: Data\n",
    "* Matthew Sitto: Data\n",
    "* Blake Stewart: Data\n",
    "* Jalin Lewis: Results \n",
    "* Alexis Morse: Results\n"
   ]
  },
  {
   "cell_type": "markdown",
   "metadata": {},
   "source": [
    "## Statement of the Problem\n",
    "\n",
    "#### **How much, quantitatively, do the presidential election debates affect the outcome of a presidential election?**"
   ]
  },
  {
   "cell_type": "markdown",
   "metadata": {},
   "source": [
    "## Solution\n",
    "\n",
    "\n",
    "As a group, we have decided to investigate US Presidential debates' speeches from the years 2000 to 2016 and the actual effect of these speeches on the results of President Elections. \n",
    "\n",
    "To quantitatively use the speeches we found online, we decided to do Sentiment Analysis on these speeches. The goal for this step was to determine the words in these speeches which had positive and negative connotations associated with them. The total number of positive and negative words in each speech would be used for sentiment analysis later on.\n",
    "We also collected data on these candidates' political party affiliations, election result, campaign spending, favorability rating (based off of the popular vote), and the voting-eligible population turnout for each election. \n",
    "\n",
    "For the modeling section of the project, we decided to a K-nearest Classifier Machine Learning model. We wanted this program to learn to associate the total number of positive and negative words and the result of election together and to determine if having either more positive or negative numbers would affect the result or not. \n",
    "\n",
    "After the analysis, we displayed our results using graphs and print statements. \n",
    "\n",
    "*Note: Most of the code applied in this notebook has been imported via python files. This was done because each section of the coding project was assigned to a few people in the group. We will be displaying some sample code and print statements in this notebook to show how our code generally worked. For more detailed understanding of the code, please refer to the python files submitted along with this notebook.* "
   ]
  },
  {
   "cell_type": "markdown",
   "metadata": {},
   "source": [
    "## Data\n",
    "\n",
    "This section of the project notebook includes our method of collecting, cleaning, and processing our data through sentiment analyis techniques. We will begin with providing the process in which we collected presidential debate transcripts from the 2000-2016 elections. We then pulled all of the positive and negative sentiment from each candidate and used them as predictors for our classification algorithim on predicting if the candidate won the election. This data will be paired with control data such as candidate's favorability rating, political affiliation, campaign financials, and the voting-eligible population turnout for each election.\n",
    "\n",
    "Below, we explain the logic behind the sentiment analysis we used for this project with some sample code.\n",
    "\n",
    "*Note: The debate file that is being pulled into the next step, is just one of the debate files. The process below was repeated for all other debate text files that we had.*"
   ]
  },
  {
   "cell_type": "code",
   "execution_count": 1,
   "metadata": {},
   "outputs": [
    {
     "name": "stderr",
     "output_type": "stream",
     "text": [
      "[nltk_data] Downloading package stopwords to\n",
      "[nltk_data]     /Users/himalibhandari/nltk_data...\n",
      "[nltk_data]   Package stopwords is already up-to-date!\n"
     ]
    },
    {
     "data": {
      "text/plain": [
       "True"
      ]
     },
     "execution_count": 1,
     "metadata": {},
     "output_type": "execute_result"
    }
   ],
   "source": [
    "# Import necessary python packages\n",
    "import pandas as pd\n",
    "import numpy as np\n",
    "import nltk\n",
    "\n",
    "# Expected to return a True Value\n",
    "nltk.download('stopwords')"
   ]
  },
  {
   "cell_type": "markdown",
   "metadata": {},
   "source": [
    "#### Step 1: Import Speech Data"
   ]
  },
  {
   "cell_type": "code",
   "execution_count": 2,
   "metadata": {},
   "outputs": [
    {
     "name": "stdout",
     "output_type": "stream",
     "text": [
      "Copy the path to the debate you're interested in.Obama_McCain_101508.txt\n",
      "Copy the path to the positive word dictionary.positive-words.txt\n",
      "Copy the path to the negative word dictionary.negative-words.txt\n"
     ]
    }
   ],
   "source": [
    "# Import debate transcript, positve and negative word dictionaries.txt files\n",
    "# Read file and split each word into its own string\n",
    "\n",
    "debate_path = input('Copy the path to the debate you\\'re interested in.')\n",
    "positive_path = input('Copy the path to the positive word dictionary.')\n",
    "negative_path = input('Copy the path to the negative word dictionary.')\n",
    "\n",
    "debate = open(debate_path, encoding=\"utf-8\").read().split()\n",
    "positive = open(positive_path, encoding=\"ISO-8859-1\").read().split()\n",
    "negative = open(negative_path, encoding=\"ISO-8859-1\").read().split()"
   ]
  },
  {
   "cell_type": "markdown",
   "metadata": {},
   "source": [
    "#### Step 2: Separation Of Moderator And the Two Candidates\n",
    "Step two includes a while loop that iterates backwards through the debate transcript. Once it finds a speaking prompt from either the Moderator, Candidate One, or Candidate Two, it appends the text that exists after the current prompt and before the last prompt in the transcript. It also detaches and deletes this list of strings from the transcript so it is not duplicated. After this process is done, you obtain your separated candidate and moderator lists."
   ]
  },
  {
   "cell_type": "code",
   "execution_count": 3,
   "metadata": {},
   "outputs": [],
   "source": [
    "mod_list = []\n",
    "can1_list = []\n",
    "can2_list = []\n",
    "\n",
    "i_new = -1\n",
    "i_old = -1\n",
    "while i_new >= -len(debate):\n",
    "    if debate[i_new] == 'SCHIEFFER:': # Moderator\n",
    "        mod_list += debate[i_new:]\n",
    "        del debate[i_new:i_old]\n",
    "        i_old = i_new\n",
    "\n",
    "    elif debate[i_new] == 'OBAMA:': # Candidate One\n",
    "        can1_list += debate[i_new:]\n",
    "        del debate[i_new:i_old]\n",
    "        i_old = i_new\n",
    "\n",
    "    elif debate[i_new] == 'MCCAIN:': # Candidate Two\n",
    "        can2_list += debate[i_new:]\n",
    "        del debate[i_new:i_old]\n",
    "        i_old = i_new\n",
    "\n",
    "    else: pass\n",
    "    i_new -= 1"
   ]
  },
  {
   "cell_type": "markdown",
   "metadata": {},
   "source": [
    "#### Step 3: Removal of Stop Words"
   ]
  },
  {
   "cell_type": "code",
   "execution_count": 4,
   "metadata": {},
   "outputs": [],
   "source": [
    "# Import \"stop words\" from nltk package\n",
    "stop_words = nltk.corpus.stopwords.words('english')"
   ]
  },
  {
   "cell_type": "code",
   "execution_count": 5,
   "metadata": {},
   "outputs": [],
   "source": [
    "# Iterates through candidate lists and removes \"stop words\"from the list\n",
    "can1_list = [x for x in can1_list if x not in stop_words]\n",
    "can2_list = [x for x in can2_list if x not in stop_words]"
   ]
  },
  {
   "cell_type": "markdown",
   "metadata": {},
   "source": [
    "#### Step 4: Sentiment Analysis\n",
    "\n",
    "We will now perform our sentiment analysis and separate the positive and negative connotation words from our candidates talking points during the debate. You will see below the results of each candidate."
   ]
  },
  {
   "cell_type": "code",
   "execution_count": 6,
   "metadata": {},
   "outputs": [],
   "source": [
    "# Iterates through candidate lists and separates positive/negative words \n",
    "# from the list\n",
    "can1_pos = [x for x in can1_list if x in positive]\n",
    "can1_neg = [x for x in can1_list if x in negative]\n",
    "can2_pos = [x for x in can2_list if x in positive]\n",
    "can2_neg = [x for x in can2_list if x in negative]"
   ]
  },
  {
   "cell_type": "code",
   "execution_count": 7,
   "metadata": {},
   "outputs": [
    {
     "name": "stdout",
     "output_type": "stream",
     "text": [
      "Candidate One Total Positive: 2558\n",
      "Candidate Two Total Positive: 2648\n",
      "Candidate One Total Negative: 1231\n",
      "Candidate Two Total Negative: 1263\n",
      "Candidate One Total Sentiment: 3789\n",
      "Candidate Two Total Sentiment: 3911\n"
     ]
    }
   ],
   "source": [
    "print('Candidate One Total Positive:', len(can1_pos))\n",
    "print('Candidate Two Total Positive:', len(can2_pos))\n",
    "print('Candidate One Total Negative:', len(can1_neg))\n",
    "print('Candidate Two Total Negative:', len(can2_neg))\n",
    "print('Candidate One Total Sentiment:', len(can1_pos)+len(can1_neg))\n",
    "print('Candidate Two Total Sentiment:', len(can2_pos)+len(can2_neg))"
   ]
  },
  {
   "cell_type": "markdown",
   "metadata": {},
   "source": [
    "#### Step 5: Election Data (Control Factors)\n",
    "\n",
    "The following data contains information on the presidential candidates from 2000 to 2016. This includes, their names, party, election result, campaign spending, favorability rating (based off of the popular vote), and the voting-eligible population turnout for each election."
   ]
  },
  {
   "cell_type": "code",
   "execution_count": 8,
   "metadata": {},
   "outputs": [],
   "source": [
    "#This function will create the dataset that will be needed further for modelling.\n",
    "def create_data():\n",
    "    #Reading in the data\n",
    "    election_data = pd.read_csv('election_data.csv') \n",
    "    #Dropping some extra rows\n",
    "    for row in range(10,19):   \n",
    "        election_data.drop(index = [row], inplace = True)\n",
    "    #Making the year look nicer\n",
    "    election_data['Year'] = election_data['Year'].astype(int)\n",
    "    #Changing the parties from the first letter to the full name\n",
    "    for i in range(len(election_data)):      \n",
    "        if election_data.iloc[i,2] == 'R':\n",
    "            election_data.iloc[i,2] = 'Republican'\n",
    "        else:\n",
    "            election_data.iloc[i,2] = 'Democrat'\n",
    "    return election_data"
   ]
  },
  {
   "cell_type": "code",
   "execution_count": 9,
   "metadata": {},
   "outputs": [
    {
     "data": {
      "text/html": [
       "<div>\n",
       "<style scoped>\n",
       "    .dataframe tbody tr th:only-of-type {\n",
       "        vertical-align: middle;\n",
       "    }\n",
       "\n",
       "    .dataframe tbody tr th {\n",
       "        vertical-align: top;\n",
       "    }\n",
       "\n",
       "    .dataframe thead th {\n",
       "        text-align: right;\n",
       "    }\n",
       "</style>\n",
       "<table border=\"1\" class=\"dataframe\">\n",
       "  <thead>\n",
       "    <tr style=\"text-align: right;\">\n",
       "      <th></th>\n",
       "      <th>Year</th>\n",
       "      <th>Candidate</th>\n",
       "      <th>Political Party</th>\n",
       "      <th>Election Result</th>\n",
       "      <th>Candidate Spending ($1mil)</th>\n",
       "      <th>Final Favorability Rating (%)</th>\n",
       "      <th>Voting-Eligible Population Turnout (%)</th>\n",
       "    </tr>\n",
       "  </thead>\n",
       "  <tbody>\n",
       "    <tr>\n",
       "      <td>0</td>\n",
       "      <td>2000</td>\n",
       "      <td>Albert Gore</td>\n",
       "      <td>Democrat</td>\n",
       "      <td>L</td>\n",
       "      <td>120.3</td>\n",
       "      <td>48.4</td>\n",
       "      <td>54.2</td>\n",
       "    </tr>\n",
       "    <tr>\n",
       "      <td>1</td>\n",
       "      <td>2000</td>\n",
       "      <td>George W. Bush</td>\n",
       "      <td>Republican</td>\n",
       "      <td>W</td>\n",
       "      <td>186.5</td>\n",
       "      <td>47.9</td>\n",
       "      <td>54.2</td>\n",
       "    </tr>\n",
       "    <tr>\n",
       "      <td>2</td>\n",
       "      <td>2004</td>\n",
       "      <td>John Kerry</td>\n",
       "      <td>Democrat</td>\n",
       "      <td>L</td>\n",
       "      <td>332.7</td>\n",
       "      <td>48.3</td>\n",
       "      <td>60.1</td>\n",
       "    </tr>\n",
       "    <tr>\n",
       "      <td>3</td>\n",
       "      <td>2004</td>\n",
       "      <td>George W. Bush</td>\n",
       "      <td>Republican</td>\n",
       "      <td>W</td>\n",
       "      <td>355.0</td>\n",
       "      <td>50.7</td>\n",
       "      <td>60.1</td>\n",
       "    </tr>\n",
       "    <tr>\n",
       "      <td>4</td>\n",
       "      <td>2008</td>\n",
       "      <td>John McCain</td>\n",
       "      <td>Republican</td>\n",
       "      <td>L</td>\n",
       "      <td>239.7</td>\n",
       "      <td>45.6</td>\n",
       "      <td>61.6</td>\n",
       "    </tr>\n",
       "    <tr>\n",
       "      <td>5</td>\n",
       "      <td>2008</td>\n",
       "      <td>Barack Obama</td>\n",
       "      <td>Democrat</td>\n",
       "      <td>W</td>\n",
       "      <td>760.4</td>\n",
       "      <td>52.9</td>\n",
       "      <td>61.6</td>\n",
       "    </tr>\n",
       "    <tr>\n",
       "      <td>6</td>\n",
       "      <td>2012</td>\n",
       "      <td>Mitt Romney</td>\n",
       "      <td>Republican</td>\n",
       "      <td>L</td>\n",
       "      <td>458.7</td>\n",
       "      <td>47.2</td>\n",
       "      <td>58.6</td>\n",
       "    </tr>\n",
       "    <tr>\n",
       "      <td>7</td>\n",
       "      <td>2012</td>\n",
       "      <td>Barack Obama</td>\n",
       "      <td>Democrat</td>\n",
       "      <td>W</td>\n",
       "      <td>737.1</td>\n",
       "      <td>51.1</td>\n",
       "      <td>58.6</td>\n",
       "    </tr>\n",
       "    <tr>\n",
       "      <td>8</td>\n",
       "      <td>2016</td>\n",
       "      <td>Hillary Clinton</td>\n",
       "      <td>Democrat</td>\n",
       "      <td>L</td>\n",
       "      <td>450.6</td>\n",
       "      <td>48.2</td>\n",
       "      <td>60.1</td>\n",
       "    </tr>\n",
       "    <tr>\n",
       "      <td>9</td>\n",
       "      <td>2016</td>\n",
       "      <td>Donald Trump</td>\n",
       "      <td>Republican</td>\n",
       "      <td>W</td>\n",
       "      <td>239.0</td>\n",
       "      <td>46.1</td>\n",
       "      <td>60.1</td>\n",
       "    </tr>\n",
       "  </tbody>\n",
       "</table>\n",
       "</div>"
      ],
      "text/plain": [
       "   Year        Candidate Political Party Election Result  \\\n",
       "0  2000      Albert Gore        Democrat               L   \n",
       "1  2000   George W. Bush      Republican               W   \n",
       "2  2004       John Kerry        Democrat               L   \n",
       "3  2004   George W. Bush      Republican               W   \n",
       "4  2008      John McCain      Republican               L   \n",
       "5  2008     Barack Obama        Democrat               W   \n",
       "6  2012      Mitt Romney      Republican               L   \n",
       "7  2012     Barack Obama        Democrat               W   \n",
       "8  2016  Hillary Clinton        Democrat               L   \n",
       "9  2016     Donald Trump      Republican               W   \n",
       "\n",
       "   Candidate Spending ($1mil)  Final Favorability Rating (%)  \\\n",
       "0                       120.3                           48.4   \n",
       "1                       186.5                           47.9   \n",
       "2                       332.7                           48.3   \n",
       "3                       355.0                           50.7   \n",
       "4                       239.7                           45.6   \n",
       "5                       760.4                           52.9   \n",
       "6                       458.7                           47.2   \n",
       "7                       737.1                           51.1   \n",
       "8                       450.6                           48.2   \n",
       "9                       239.0                           46.1   \n",
       "\n",
       "   Voting-Eligible Population Turnout (%)  \n",
       "0                                    54.2  \n",
       "1                                    54.2  \n",
       "2                                    60.1  \n",
       "3                                    60.1  \n",
       "4                                    61.6  \n",
       "5                                    61.6  \n",
       "6                                    58.6  \n",
       "7                                    58.6  \n",
       "8                                    60.1  \n",
       "9                                    60.1  "
      ]
     },
     "execution_count": 9,
     "metadata": {},
     "output_type": "execute_result"
    }
   ],
   "source": [
    "#How the dataset will look\n",
    "create_data()"
   ]
  },
  {
   "cell_type": "markdown",
   "metadata": {},
   "source": [
    "## Model "
   ]
  },
  {
   "cell_type": "markdown",
   "metadata": {},
   "source": [
    "This section describes the Machine Learning method of K-nearest Classifier method we applied to the Election Data and the other control variables from the previous section. \n",
    "\n",
    "We wanted the model to learn to associate the total number of positive words and negative words from a candidate's Presidential debate speeches in a particular year and the control factors including favorability rating, political affiliation, campaign financials, and the voting-eligible population turnout for each election with the election result of that respective year.\n",
    "\n",
    "Below we are going to explain how the modelling code works. Please refer to the **'Machine_Learning_kNN.py'** file for the complete code.\n",
    "\n",
    "Also please refer to the following py files for further understanding of the code:\n",
    "\n",
    "1. **data_00_08.py**\n",
    "2. **data_12_16.py**\n",
    "3. **control_variables.py**"
   ]
  },
  {
   "cell_type": "markdown",
   "metadata": {},
   "source": [
    "The modelling process is explained in detail step by step:\n",
    "\n",
    "1. **Imports**\n",
    "\n",
    "    Like any proper code in Python, we need proper imports. The imports we used in this section include Pandas, Numpy, sklearn, Matplotlib and scipy. \n",
    "    \n",
    "    For our convenienve, we converted the data that was prepared in the following section into .py files. We did this because importing all the code in our main modelling process was easier. These files were imported as: **data_00_08**, **data_12_16**, and **control_variables**. Please refer to these files for more explanation on the code done in the data collection process.\n",
    "    \n",
    "    \n",
    "2. **calc_totals**\n",
    "\n",
    "    This function calculates totals for positive, negative and total sentiment words. It takes a dataset and a year as inputs and gives the totals list as the output. \n",
    "    \n",
    "    \n",
    "3. **clean_data**\n",
    "\n",
    "    This function cleans the dataframes data_00_08 and data_12_16 and concats them into one big dataframe which displays the totals for each candidate in every election year. It doesnt take anything as its input since its default input are the datasets from data_00_08 and data_12_16 py files. It gives out a clean merged dataframe as the output.\n",
    "    \n",
    "    \n",
    "4. **create_vectors**\n",
    "\n",
    "    This function takes the dataframe made from the function clean_data and creates and returns feature and target vectors for the machine learning. This function also grabs the control variables dataframe from the control_variables py file. The feature vectors include the election year,affiliation, positive words, negative words, total sentiment, candidate spending,final favorability rating, and voting eligible population turnout for that specific election. The target vector includes election results, either 'L' for Lose or 'W' for Win.\n",
    "    This function retunr the feature_vector list, target_vector list, win_data and totals dataframes.\n",
    "    \n",
    "    \n",
    "5. **train**\n",
    "\n",
    "    This function trains the feature and target vectors taken from the previous function, create_vectors. It takes 'size' as the input which will define what percentage of data we want to take as the training data and testing data. It uses the *sklearn.model_selection* package's functin, *train_test_split* for splitting the training and testing data. It returns x_train, y_train, y_test and x-test arrays and also the win_data and totals dataframes.\n",
    "    \n",
    "    \n",
    "6. **predict**\n",
    "\n",
    "    This function uses all previous functions and gives us the actual prediction we desire. It takes k, size and x_input as inputs.The k refers to the number of neighbors we wish to check on. The size refers to the percentage of data we want to be training data and testing data (from the function train). The x_input is optional input if we want to test the some other feature vectors for prediction of future elections. \n",
    "    \n",
    "    This function uses *kNeighborsClassifier* function from the package *sklearn.neighbors* for calculating the classifier that will be fitted to predict the results. The function also taken in the condition of when there is a value given for x_input. The function overall returns y_pred (the predictions), accuracy of the predict function, and all the training and testing data along with the win_data and totals dataframes.\n",
    "    \n",
    "\n",
    "    \n",
    "\n",
    "\n",
    "\n"
   ]
  },
  {
   "cell_type": "markdown",
   "metadata": {},
   "source": [
    "## Results\n",
    "For our results a number of conclusions were made. First, we take a look at the machine learning of prediction of outcome for the model. Having to choose between between five random but pre-determined paramters, we saw what is given below. Though we wanted to run all the possible paramters at once, ultimately we realized this wasnt a possibility becasue the program ran for at least 99 seconds, before producing a results. Therefore, importing a 2D Array would take at least 25+ minutes in order to produce a result. Kind of reminds you of 2001. Sure that works for a finished product, but any little change that need to be corrected into the program itself is entirely too time consuming and therefore not practical. Hence, why we decided to test the outcomes on a case by case basis. Through trails and error we realied that a k-step of 3 with a t of 0.4, generally gave the best accuracy for the program. Below shows a sample of the results."
   ]
  },
  {
   "cell_type": "code",
   "execution_count": 24,
   "metadata": {},
   "outputs": [],
   "source": [
    "from Machine_Learning_KNN import predict\n",
    "import matplotlib.pyplot as plt\n",
    "import numpy as np\n",
    "import pandas as pd    "
   ]
  },
  {
   "cell_type": "code",
   "execution_count": 33,
   "metadata": {},
   "outputs": [],
   "source": [
    "ypredict, accuracy_k, ytest, ytrain, xtrain, xtest, win_data, election_data = predict(3,0.4)"
   ]
  },
  {
   "cell_type": "code",
   "execution_count": 34,
   "metadata": {},
   "outputs": [
    {
     "data": {
      "text/html": [
       "<div>\n",
       "<style scoped>\n",
       "    .dataframe tbody tr th:only-of-type {\n",
       "        vertical-align: middle;\n",
       "    }\n",
       "\n",
       "    .dataframe tbody tr th {\n",
       "        vertical-align: top;\n",
       "    }\n",
       "\n",
       "    .dataframe thead th {\n",
       "        text-align: right;\n",
       "    }\n",
       "</style>\n",
       "<table border=\"1\" class=\"dataframe\">\n",
       "  <thead>\n",
       "    <tr style=\"text-align: right;\">\n",
       "      <th></th>\n",
       "      <th>Year</th>\n",
       "      <th>Candidate</th>\n",
       "      <th>Political Party</th>\n",
       "      <th>Election Result</th>\n",
       "      <th>Candidate Spending ($1mil)</th>\n",
       "      <th>Final Favorability Rating (%)</th>\n",
       "      <th>Voting-Eligible Population Turnout (%)</th>\n",
       "    </tr>\n",
       "  </thead>\n",
       "  <tbody>\n",
       "    <tr>\n",
       "      <td>0</td>\n",
       "      <td>2000</td>\n",
       "      <td>Albert Gore</td>\n",
       "      <td>Democrat</td>\n",
       "      <td>L</td>\n",
       "      <td>120.3</td>\n",
       "      <td>48.4</td>\n",
       "      <td>54.2</td>\n",
       "    </tr>\n",
       "    <tr>\n",
       "      <td>1</td>\n",
       "      <td>2000</td>\n",
       "      <td>George W. Bush</td>\n",
       "      <td>Republican</td>\n",
       "      <td>W</td>\n",
       "      <td>186.5</td>\n",
       "      <td>47.9</td>\n",
       "      <td>54.2</td>\n",
       "    </tr>\n",
       "    <tr>\n",
       "      <td>3</td>\n",
       "      <td>2004</td>\n",
       "      <td>George W. Bush</td>\n",
       "      <td>Republican</td>\n",
       "      <td>W</td>\n",
       "      <td>355.0</td>\n",
       "      <td>50.7</td>\n",
       "      <td>60.1</td>\n",
       "    </tr>\n",
       "    <tr>\n",
       "      <td>2</td>\n",
       "      <td>2004</td>\n",
       "      <td>John Kerry</td>\n",
       "      <td>Democrat</td>\n",
       "      <td>L</td>\n",
       "      <td>332.7</td>\n",
       "      <td>48.3</td>\n",
       "      <td>60.1</td>\n",
       "    </tr>\n",
       "    <tr>\n",
       "      <td>5</td>\n",
       "      <td>2008</td>\n",
       "      <td>Barack Obama</td>\n",
       "      <td>Democrat</td>\n",
       "      <td>W</td>\n",
       "      <td>760.4</td>\n",
       "      <td>52.9</td>\n",
       "      <td>61.6</td>\n",
       "    </tr>\n",
       "    <tr>\n",
       "      <td>4</td>\n",
       "      <td>2008</td>\n",
       "      <td>John McCain</td>\n",
       "      <td>Republican</td>\n",
       "      <td>L</td>\n",
       "      <td>239.7</td>\n",
       "      <td>45.6</td>\n",
       "      <td>61.6</td>\n",
       "    </tr>\n",
       "    <tr>\n",
       "      <td>7</td>\n",
       "      <td>2012</td>\n",
       "      <td>Barack Obama</td>\n",
       "      <td>Democrat</td>\n",
       "      <td>W</td>\n",
       "      <td>737.1</td>\n",
       "      <td>51.1</td>\n",
       "      <td>58.6</td>\n",
       "    </tr>\n",
       "    <tr>\n",
       "      <td>6</td>\n",
       "      <td>2012</td>\n",
       "      <td>Mitt Romney</td>\n",
       "      <td>Republican</td>\n",
       "      <td>L</td>\n",
       "      <td>458.7</td>\n",
       "      <td>47.2</td>\n",
       "      <td>58.6</td>\n",
       "    </tr>\n",
       "    <tr>\n",
       "      <td>9</td>\n",
       "      <td>2016</td>\n",
       "      <td>Donald Trump</td>\n",
       "      <td>Republican</td>\n",
       "      <td>W</td>\n",
       "      <td>239.0</td>\n",
       "      <td>46.1</td>\n",
       "      <td>60.1</td>\n",
       "    </tr>\n",
       "    <tr>\n",
       "      <td>8</td>\n",
       "      <td>2016</td>\n",
       "      <td>Hillary Clinton</td>\n",
       "      <td>Democrat</td>\n",
       "      <td>L</td>\n",
       "      <td>450.6</td>\n",
       "      <td>48.2</td>\n",
       "      <td>60.1</td>\n",
       "    </tr>\n",
       "  </tbody>\n",
       "</table>\n",
       "</div>"
      ],
      "text/plain": [
       "   Year        Candidate Political Party Election Result  \\\n",
       "0  2000      Albert Gore        Democrat               L   \n",
       "1  2000   George W. Bush      Republican               W   \n",
       "3  2004   George W. Bush      Republican               W   \n",
       "2  2004       John Kerry        Democrat               L   \n",
       "5  2008     Barack Obama        Democrat               W   \n",
       "4  2008      John McCain      Republican               L   \n",
       "7  2012     Barack Obama        Democrat               W   \n",
       "6  2012      Mitt Romney      Republican               L   \n",
       "9  2016     Donald Trump      Republican               W   \n",
       "8  2016  Hillary Clinton        Democrat               L   \n",
       "\n",
       "   Candidate Spending ($1mil)  Final Favorability Rating (%)  \\\n",
       "0                       120.3                           48.4   \n",
       "1                       186.5                           47.9   \n",
       "3                       355.0                           50.7   \n",
       "2                       332.7                           48.3   \n",
       "5                       760.4                           52.9   \n",
       "4                       239.7                           45.6   \n",
       "7                       737.1                           51.1   \n",
       "6                       458.7                           47.2   \n",
       "9                       239.0                           46.1   \n",
       "8                       450.6                           48.2   \n",
       "\n",
       "   Voting-Eligible Population Turnout (%)  \n",
       "0                                    54.2  \n",
       "1                                    54.2  \n",
       "3                                    60.1  \n",
       "2                                    60.1  \n",
       "5                                    61.6  \n",
       "4                                    61.6  \n",
       "7                                    58.6  \n",
       "6                                    58.6  \n",
       "9                                    60.1  \n",
       "8                                    60.1  "
      ]
     },
     "execution_count": 34,
     "metadata": {},
     "output_type": "execute_result"
    }
   ],
   "source": [
    "win_data"
   ]
  },
  {
   "cell_type": "code",
   "execution_count": 35,
   "metadata": {},
   "outputs": [
    {
     "data": {
      "text/html": [
       "<div>\n",
       "<style scoped>\n",
       "    .dataframe tbody tr th:only-of-type {\n",
       "        vertical-align: middle;\n",
       "    }\n",
       "\n",
       "    .dataframe tbody tr th {\n",
       "        vertical-align: top;\n",
       "    }\n",
       "\n",
       "    .dataframe thead th {\n",
       "        text-align: right;\n",
       "    }\n",
       "</style>\n",
       "<table border=\"1\" class=\"dataframe\">\n",
       "  <thead>\n",
       "    <tr style=\"text-align: right;\">\n",
       "      <th></th>\n",
       "      <th>Election_Year</th>\n",
       "      <th>Candidate_Name</th>\n",
       "      <th>Affiliation</th>\n",
       "      <th>Positive_Words</th>\n",
       "      <th>Negative_Words</th>\n",
       "      <th>Total_Sentiment</th>\n",
       "    </tr>\n",
       "  </thead>\n",
       "  <tbody>\n",
       "    <tr>\n",
       "      <td>0</td>\n",
       "      <td>2000</td>\n",
       "      <td>Albert A. Gore</td>\n",
       "      <td>1</td>\n",
       "      <td>9145</td>\n",
       "      <td>4459</td>\n",
       "      <td>13604</td>\n",
       "    </tr>\n",
       "    <tr>\n",
       "      <td>1</td>\n",
       "      <td>2000</td>\n",
       "      <td>George W. Bush</td>\n",
       "      <td>0</td>\n",
       "      <td>10173</td>\n",
       "      <td>4835</td>\n",
       "      <td>15008</td>\n",
       "    </tr>\n",
       "    <tr>\n",
       "      <td>2</td>\n",
       "      <td>2004</td>\n",
       "      <td>George W. Bush</td>\n",
       "      <td>0</td>\n",
       "      <td>9248</td>\n",
       "      <td>4627</td>\n",
       "      <td>13875</td>\n",
       "    </tr>\n",
       "    <tr>\n",
       "      <td>3</td>\n",
       "      <td>2004</td>\n",
       "      <td>John F. Kerry</td>\n",
       "      <td>1</td>\n",
       "      <td>9006</td>\n",
       "      <td>4430</td>\n",
       "      <td>13436</td>\n",
       "    </tr>\n",
       "    <tr>\n",
       "      <td>4</td>\n",
       "      <td>2008</td>\n",
       "      <td>Barack H. Obama</td>\n",
       "      <td>1</td>\n",
       "      <td>7100</td>\n",
       "      <td>4526</td>\n",
       "      <td>11626</td>\n",
       "    </tr>\n",
       "    <tr>\n",
       "      <td>5</td>\n",
       "      <td>2008</td>\n",
       "      <td>John S. McCain</td>\n",
       "      <td>0</td>\n",
       "      <td>6758</td>\n",
       "      <td>4208</td>\n",
       "      <td>10966</td>\n",
       "    </tr>\n",
       "    <tr>\n",
       "      <td>6</td>\n",
       "      <td>2012</td>\n",
       "      <td>Barack Obama</td>\n",
       "      <td>1</td>\n",
       "      <td>11633</td>\n",
       "      <td>5579</td>\n",
       "      <td>17212</td>\n",
       "    </tr>\n",
       "    <tr>\n",
       "      <td>7</td>\n",
       "      <td>2012</td>\n",
       "      <td>Mitt Romney</td>\n",
       "      <td>0</td>\n",
       "      <td>13303</td>\n",
       "      <td>6344</td>\n",
       "      <td>19647</td>\n",
       "    </tr>\n",
       "    <tr>\n",
       "      <td>8</td>\n",
       "      <td>2016</td>\n",
       "      <td>Donald Trump</td>\n",
       "      <td>0</td>\n",
       "      <td>13928</td>\n",
       "      <td>12017</td>\n",
       "      <td>25945</td>\n",
       "    </tr>\n",
       "    <tr>\n",
       "      <td>9</td>\n",
       "      <td>2016</td>\n",
       "      <td>Hillary Clinton</td>\n",
       "      <td>1</td>\n",
       "      <td>11796</td>\n",
       "      <td>10120</td>\n",
       "      <td>21916</td>\n",
       "    </tr>\n",
       "  </tbody>\n",
       "</table>\n",
       "</div>"
      ],
      "text/plain": [
       "   Election_Year    Candidate_Name  Affiliation  Positive_Words  \\\n",
       "0           2000    Albert A. Gore            1            9145   \n",
       "1           2000    George W. Bush            0           10173   \n",
       "2           2004    George W. Bush            0            9248   \n",
       "3           2004     John F. Kerry            1            9006   \n",
       "4           2008  Barack H. Obama             1            7100   \n",
       "5           2008    John S. McCain            0            6758   \n",
       "6           2012      Barack Obama            1           11633   \n",
       "7           2012       Mitt Romney            0           13303   \n",
       "8           2016      Donald Trump            0           13928   \n",
       "9           2016   Hillary Clinton            1           11796   \n",
       "\n",
       "   Negative_Words  Total_Sentiment  \n",
       "0            4459            13604  \n",
       "1            4835            15008  \n",
       "2            4627            13875  \n",
       "3            4430            13436  \n",
       "4            4526            11626  \n",
       "5            4208            10966  \n",
       "6            5579            17212  \n",
       "7            6344            19647  \n",
       "8           12017            25945  \n",
       "9           10120            21916  "
      ]
     },
     "execution_count": 35,
     "metadata": {},
     "output_type": "execute_result"
    }
   ],
   "source": [
    "election_data"
   ]
  },
  {
   "cell_type": "code",
   "execution_count": 36,
   "metadata": {},
   "outputs": [
    {
     "data": {
      "text/plain": [
       "[[2000, 1, 9145, 4459, 13604, 120.3, 48.4, 54.2],\n",
       " [2008, 0, 6758, 4208, 10966, 760.4, 52.9, 61.6],\n",
       " [2000, 0, 10173, 4835, 15008, 186.5, 47.9, 54.2],\n",
       " [2004, 1, 9006, 4430, 13436, 355.0, 50.7, 60.1],\n",
       " [2008, 1, 7100, 4526, 11626, 239.7, 45.6, 61.6],\n",
       " [2004, 0, 9248, 4627, 13875, 332.7, 48.3, 60.1]]"
      ]
     },
     "execution_count": 36,
     "metadata": {},
     "output_type": "execute_result"
    }
   ],
   "source": [
    "xtrain"
   ]
  },
  {
   "cell_type": "code",
   "execution_count": 37,
   "metadata": {},
   "outputs": [
    {
     "data": {
      "text/plain": [
       "[[2016, 1, 11796, 10120, 21916, 239.0, 46.1, 60.1],\n",
       " [2012, 0, 13303, 6344, 19647, 737.1, 51.1, 58.6],\n",
       " [2016, 0, 13928, 12017, 25945, 450.6, 48.2, 60.1],\n",
       " [2012, 1, 11633, 5579, 17212, 458.7, 47.2, 58.6]]"
      ]
     },
     "execution_count": 37,
     "metadata": {},
     "output_type": "execute_result"
    }
   ],
   "source": [
    "xtest"
   ]
  },
  {
   "cell_type": "code",
   "execution_count": 38,
   "metadata": {},
   "outputs": [
    {
     "name": "stdout",
     "output_type": "stream",
     "text": [
      "['W' 'W' 'W' 'W']\n"
     ]
    }
   ],
   "source": [
    "print(ypredict)"
   ]
  },
  {
   "cell_type": "code",
   "execution_count": 39,
   "metadata": {},
   "outputs": [
    {
     "name": "stdout",
     "output_type": "stream",
     "text": [
      "['L', 'L', 'W', 'W']\n"
     ]
    }
   ],
   "source": [
    "print(ytest)"
   ]
  },
  {
   "cell_type": "markdown",
   "metadata": {},
   "source": [
    "Below are the graphical representation of our results."
   ]
  },
  {
   "cell_type": "code",
   "execution_count": 42,
   "metadata": {},
   "outputs": [
    {
     "name": "stdout",
     "output_type": "stream",
     "text": [
      "4\n"
     ]
    },
    {
     "data": {
      "image/png": "[encoded data removed]",
      "text/plain": [
       "<Figure size 432x288 with 1 Axes>"
      ]
     },
     "metadata": {
      "needs_background": "light"
     },
     "output_type": "display_data"
    }
   ],
   "source": [
    "#First set the conditions in order to analyze the predict function\n",
    "height1 = len(ypredict)\n",
    "height2 = len(ytest)\n",
    "wins_predict = []\n",
    "loss_predict = []\n",
    "win_count = 0\n",
    "loss_count = 0\n",
    "win_test = []\n",
    "loss_test = []\n",
    "win_count_test = 0\n",
    "loss_count_test = 0\n",
    "#for loop to seperate the results into bins\n",
    "for i in ypredict:\n",
    "    if i == \"W\":\n",
    "        win_count+=1\n",
    "        wins_predict.append(i)\n",
    "    else:\n",
    "        loss_count += 1\n",
    "        loss_predict.append(i)\n",
    "for j in ytest:\n",
    "    if j == \"W\":\n",
    "        win_count_test+=1\n",
    "        win_test.append(j)\n",
    "    else:\n",
    "        loss_count_test+=1\n",
    "        loss_test.append(j)\n",
    "#plot the results to vsiualize the outcome\n",
    "print(win_count)\n",
    "plt.bar(wins_predict,win_count)\n",
    "plt.bar(loss_predict, loss_count, color = \"k\")\n",
    "plt.bar(win_test,win_count_test)\n",
    "plt.bar(loss_test,loss_count_test)\n",
    "plt.title(\"Wins and Losses prediction\")\n",
    "plt.ylabel(\"Number of tested outcomes\")\n",
    "plt.show()"
   ]
  },
  {
   "cell_type": "markdown",
   "metadata": {},
   "source": [
    "Here we place some results on the amount of sentiment used for our testing. Though the testing itself gave a smaller smaple soultion, its still crucial to look at the big picture to understand the program of itself.Here we use a scatter plot to look at the negative and positive \"words\" or sentiment within presidential debate speeches dating back to 2000. An interesting trend that can be seen is that in general there are less negative words than positive within speeches traditionally. However, it can also be observed that there have been increasingly more negative words being used in the speechs than previously before, where the trend almost triples in negative words or sentiments. The jump is particularly noticeable in the recent debates between Hillary Clinton and Donald Trump. The other intersting observation is the actual total sentiment or \"word count\". It generally stabilizes around 4000-5000 total words. This trend may dip or rise within a 750 word difference but again the trend begins to sky rocket between Hillary Clinton and Donald Trump. With Donald Trump having the highesst word count of just above 10000 and a \"positive sentiment\" of only 5700 or about 57%, if percentages were involved which ultimately, and undoubtedly means that President Donald Trump, talks entirely too much. See results below.\n",
    "\n"
   ]
  },
  {
   "cell_type": "code",
   "execution_count": 43,
   "metadata": {},
   "outputs": [
    {
     "data": {
      "image/png": "[encoded data removed]",
      "text/plain": [
       "<Figure size 2520x2520 with 1 Axes>"
      ]
     },
     "metadata": {
      "needs_background": "light"
     },
     "output_type": "display_data"
    }
   ],
   "source": [
    "labels= election_data[\"Candidate_Name\"]\n",
    "labels2 = election_data[\"Election_Year\"]\n",
    "y_pos = election_data[\"Positive_Words\"]\n",
    "x_both= election_data[\"Total_Sentiment\"]\n",
    "y_neg = election_data[\"Negative_Words\"]\n",
    "\n",
    "plt.figure(figsize = (35,35))\n",
    "plt.title(\"Election Candidate Positive/Negative Speech Analysis\")\n",
    "plt.xlabel(\"Total Sentiment\")\n",
    "plt.ylabel(\"Positive/Negative Sentiment\")\n",
    "plt.scatter(x_both,y_pos, label = \"Postive\")\n",
    "plt.scatter(x_both,y_neg, label = \"Negative\")\n",
    "plt.subplots_adjust(bottom = 0.1)\n",
    "\n",
    "for label, x, y in zip(labels, x_both, y_pos):\n",
    "    plt.annotate(label,xy=(x, y), xytext=(-20, 20),textcoords='offset points', ha='right', va='bottom',bbox=dict(boxstyle='round,pad=0.5', fc='yellow', alpha=0.5),\n",
    "                 arrowprops=dict(arrowstyle = '->', connectionstyle='arc3,rad=0'))\n",
    "for label, x, y in zip(labels, x_both, y_neg):\n",
    "    plt.annotate(label,xy=(x, y), xytext=(-20, 20),textcoords='offset points', ha='right', va='bottom',bbox=dict(boxstyle='round,pad=0.5', fc='yellow', alpha=0.5),\n",
    "                 arrowprops=dict(arrowstyle = '->', connectionstyle='arc3,rad=0'))\n",
    "for label, x, y in zip(labels2, x_both, y_pos):\n",
    "    plt.annotate(label,xy=(x, y), xytext=(-20, 20),textcoords='offset points', ha='left', va='bottom',bbox=dict(boxstyle='round,pad=0.5', fc='yellow', alpha=0.5),\n",
    "                 arrowprops=dict(arrowstyle = '->', connectionstyle='arc3,rad=0'))\n",
    "for label, x, y in zip(labels2, x_both, y_neg):\n",
    "    plt.annotate(label,xy=(x, y), xytext=(-20, 20),textcoords='offset points', ha='left', va='bottom',bbox=dict(boxstyle='round,pad=0.5', fc='yellow', alpha=0.5),\n",
    "                 arrowprops=dict(arrowstyle = '->', connectionstyle='arc3,rad=0'))\n",
    "\n",
    "plt.legend()    \n",
    "plt.show()"
   ]
  },
  {
   "cell_type": "code",
   "execution_count": 44,
   "metadata": {},
   "outputs": [
    {
     "name": "stdout",
     "output_type": "stream",
     "text": [
      "0.5\n"
     ]
    }
   ],
   "source": [
    "print(accuracy_k)"
   ]
  },
  {
   "cell_type": "markdown",
   "metadata": {},
   "source": [
    "## Conclusions "
   ]
  },
  {
   "cell_type": "markdown",
   "metadata": {},
   "source": [
    "Some issues we might run into are:\n",
    "\n",
    "* Finding proper data without any inconsistencies for both the speeches and approval rates.\n",
    "* Deciding on an appropriate pre-defined sentiment.\n",
    "* Likely issues in the actual word processing. \n",
    "\n"
   ]
  },
  {
   "cell_type": "markdown",
   "metadata": {},
   "source": [
    "## References\n",
    "\n",
    "* “Debate Transcripts.” CPD: Debate Transcripts, www.debates.org/voter-education/debate-transcripts/.\n",
    "* “Election Listing: The American Presidency Project.” Election Listing | The American Presidency Project, www.presidency.ucsb.edu/statistics/elections.\n",
    "* “Data Archive.” Data Archive | The American Presidency Project, www.presidency.ucsb.edu/statistics/data.\n",
    "* The Editors of Encyclopaedia Britannica. “United States Presidential Election Results.” Encyclopaedia Britannica, Encyclopædia Britannica, Inc., 3 Feb. 2017, www.britannica.com/topic/United-States-Presidential-Election-Results-1788863."
   ]
  }
 ],
 "metadata": {
  "kernelspec": {
   "display_name": "Python 3",
   "language": "python",
   "name": "python3"
  },
  "language_info": {
   "codemirror_mode": {
    "name": "ipython",
    "version": 3
   },
   "file_extension": ".py",
   "mimetype": "text/x-python",
   "name": "python",
   "nbconvert_exporter": "python",
   "pygments_lexer": "ipython3",
   "version": "3.7.4"
  }
 },
 "nbformat": 4,
 "nbformat_minor": 2
}
